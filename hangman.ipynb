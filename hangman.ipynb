{
 "cells": [
  {
   "cell_type": "markdown",
   "metadata": {},
   "source": [
    "1.게임 기본 흐름\n",
    "프로그램은 미리 정해진 단어 중 하나를 랜덤하게 선택합니다.\n",
    "사용자는 단어를 추측하기 위해 알파벳을 하나씩 입력합니다.\n",
    "사용자가 정답을 맞히거나 시도 횟수를 모두 소진하면 게임이 종료됩니다.\n",
    "\n",
    "\n",
    "2. 기능별 요구사항\n",
    "\n",
    "2.1 단어 선택\n",
    "미리 정해진 단어 리스트를 준비합니다.\n",
    "단어는 랜덤하게 선택되며, 리스트는 최소 5개 이상의 단어로 구성합니다.\n",
    "\n",
    "2.2 사용자 입력\n",
    "사용자는 한 번에 알파벳 한 글자만 입력할 수 있습니다.\n",
    "입력받은 글자는 대소문자를 구분하지 않으며 소문자로 처리합니다.\n",
    "사용자가 이미 입력한 글자를 다시 입력하면 경고 메시지를 출력합니다.\n",
    "\n",
    "2.3 추측 처리\n",
    "선택된 단어에 사용자가 입력한 알파벳이 포함되어 있으면 화면에 표시합니다.\n",
    "포함되지 않은 경우, 남은 시도 횟수를 1 감소시킵니다.\n",
    "\n",
    "2.4 게임 종료 조건\n",
    "사용자가 단어를 모두 맞히면 \"축하합니다! 정답을 맞혔습니다!\"를 출력합니다.\n",
    "남은 시도 횟수가 0이 되면 \"게임 오버! 정답은 [정답]입니다.\"를 출력합니다.\n",
    "\n",
    "2.5 화면 표시\n",
    "추측한 단어는 다음 형식으로 표시됩니다:\n",
    "아직 맞히지 못한 글자는 _로 표시.\n",
    "이미 맞힌 글자는 해당 글자를 표시.\n",
    "예: e_x_m_l_ (단어: example)\n",
    "\n",
    "\n",
    "사용자가 남은 시도 횟수와 이미 추측한 글자도 표시합니다.\n",
    "\n",
    "\n",
    "4.예시 실행화면\n",
    "[게임시작]\n",
    "\n",
    "단어의 길이는 7글자입니다.\n",
    "단어: _ _ _ _ _ _ _\n",
    "남은 시도 횟수: 6\n",
    "이미 추측한 글자: 없음\n",
    "\n",
    "[사용자 입력 후]\n",
    "\n",
    "알파벳을 입력하세요: e\n",
    "단어: e _ _ _ _ _ e\n",
    "남은 시도 횟수: 6\n",
    "이미 추측한 글자: e\n",
    "\n",
    "\n",
    "[정답 시]\n",
    "축하합니다! 정답을 맞혔습니다!\n",
    "정답: example\n",
    "\n",
    "\n",
    "[실패 시]\n",
    "게임 오버! 정답은 example입니다.\n",
    "\n",
    "\n",
    "5. 코드 로직 (hint!)\n",
    "단어 리스트\n",
    "words = [\"apple\", \"banana\", \"python\", \"example\", \"hangman\"]\n",
    "단어 랜덤 선택\n",
    "사용자 입력 반복 처리\n",
    "입력 검증\n",
    "화면 출력\n",
    "게임종료 처리"
   ]
  },
  {
   "cell_type": "code",
   "execution_count": 15,
   "metadata": {},
   "outputs": [
    {
     "name": "stdout",
     "output_type": "stream",
     "text": [
      "python\n",
      "[GAME START]\n",
      "\n",
      "The word is 6 letters long.\n",
      "Word: ['_', '_', '_', '_', '_', '_'] \n",
      "Remaining number of attempts: 6 \n",
      "Letter(s) already guessed:\n",
      " ['None']\n",
      "\n",
      "[INPUT COMPLETE]\n",
      "\n",
      "Word: ['_', '_', '_', '_', '_', '_'] \n",
      "Remaining number of attempts: 5 \n",
      "Letters already guessed:\n",
      " ['None']\n"
     ]
    }
   ],
   "source": [
    "import random\n",
    "\n",
    "words = [\"apple\", \"banana\", \"python\", \"example\", \"hangman\"]\n",
    "gamew=random.choice(words)\n",
    "att=6\n",
    "right=['None']\n",
    "updateri=0\n",
    "blanks=[]\n",
    "\n",
    "print(gamew)\n",
    "\n",
    "for x in range(len(gamew)):\n",
    "    blanks.append('_')\n",
    "\n",
    "print('[GAME START]\\n')\n",
    "print('The word is', len(gamew), 'letters long.\\nWord:',blanks,'\\nRemaining number of attempts:',att,'\\nLetter(s) already guessed:\\n',right)\n",
    "\n",
    "while True:\n",
    "    if att==0:\n",
    "        break\n",
    "    ans=input('Guess the letter:')\n",
    "    ans=ans.lower()\n",
    "    \n",
    "    if ans in gamew:\n",
    "        for i in range(len(gamew)):\n",
    "            if ans==gamew:\n",
    "                blanks[i]=ans\n",
    "                right[updateri]=ans\n",
    "    else:\n",
    "        att-=1\n",
    "    print('\\n[INPUT COMPLETE]')\n",
    "    print('\\nWord:',blanks,'\\nRemaining number of attempts:',att,'\\nLetters already guessed:\\n',right)\n",
    "    updateri+=1"
   ]
  },
  {
   "cell_type": "code",
   "execution_count": 11,
   "metadata": {},
   "outputs": [
    {
     "name": "stdout",
     "output_type": "stream",
     "text": [
      "[10, 20, 35, 40, 50]\n"
     ]
    }
   ],
   "source": [
    "mylist = [10, 20, 30, 40, 50]\n",
    "mylist[2] = 35 \n",
    "\n",
    "print(mylist)"
   ]
  }
 ],
 "metadata": {
  "kernelspec": {
   "display_name": "Python 3",
   "language": "python",
   "name": "python3"
  },
  "language_info": {
   "codemirror_mode": {
    "name": "ipython",
    "version": 3
   },
   "file_extension": ".py",
   "mimetype": "text/x-python",
   "name": "python",
   "nbconvert_exporter": "python",
   "pygments_lexer": "ipython3",
   "version": "3.12.2"
  }
 },
 "nbformat": 4,
 "nbformat_minor": 2
}
