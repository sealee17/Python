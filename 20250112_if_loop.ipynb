{
 "cells": [
  {
   "cell_type": "code",
   "execution_count": 6,
   "metadata": {},
   "outputs": [
    {
     "name": "stdout",
     "output_type": "stream",
     "text": [
      "walk\n"
     ]
    }
   ],
   "source": [
    "\n",
    "m = int(input(\"Your money:\"))\n",
    "\n",
    "if m>10000:\n",
    "    print(\"taxi\")\n",
    "elif 10000>m>1000:\n",
    "    print(\"bus\")\n",
    "elif 1000>m>100:\n",
    "    print(\"bike\")\n",
    "else:\n",
    "    print(\"walk\")\n"
   ]
  },
  {
   "cell_type": "code",
   "execution_count": null,
   "metadata": {},
   "outputs": [],
   "source": [
    "harry={'age':25, \"name\":\"harry\", \"job\":\"developer\"}\n",
    "print(harry.items())\n",
    "\n",
    "for key,value in harry.items():\n",
    "    print(key,value)\n",
    "\n",
    "for key in harry.keys():\n",
    "    print(key)\n",
    "\n",
    "for value in harry.value():\n",
    "    print(value)\n",
    "\n",
    "#3,4,5,6,50"
   ]
  },
  {
   "cell_type": "code",
   "execution_count": 8,
   "metadata": {},
   "outputs": [
    {
     "name": "stdout",
     "output_type": "stream",
     "text": [
      "age 47\n",
      "name Kanye West\n",
      "job Rapper/producer\n"
     ]
    }
   ],
   "source": [
    "kanye={'age':47, \"name\":\"Kanye West\", \"job\":\"Rapper/producer\"}\n",
    "\n",
    "for key,value in kanye.items():\n",
    "    print(key,value)"
   ]
  },
  {
   "cell_type": "code",
   "execution_count": 10,
   "metadata": {},
   "outputs": [
    {
     "name": "stdout",
     "output_type": "stream",
     "text": [
      "0\n",
      "1\n",
      "2\n",
      "3\n",
      "4\n",
      "5\n",
      "6\n",
      "7\n",
      "8\n",
      "9\n",
      "10\n"
     ]
    }
   ],
   "source": [
    "a=0 #i,j,k 보통 씀\n",
    "while a<10:\n",
    "    print(a)\n",
    "    a+=1\n",
    "\n"
   ]
  },
  {
   "cell_type": "code",
   "execution_count": 12,
   "metadata": {},
   "outputs": [
    {
     "name": "stdout",
     "output_type": "stream",
     "text": [
      "1\n",
      "3\n",
      "5\n",
      "7\n",
      "9\n"
     ]
    }
   ],
   "source": [
    "for i in range(10):\n",
    "    if i%2==1:\n",
    "        print(i)\n",
    "    else:\n",
    "        continue"
   ]
  },
  {
   "cell_type": "code",
   "execution_count": 15,
   "metadata": {},
   "outputs": [
    {
     "name": "stdout",
     "output_type": "stream",
     "text": [
      "1\n",
      "3\n",
      "5\n",
      "7\n",
      "9\n"
     ]
    }
   ],
   "source": [
    "i=0\n",
    "while i <10:\n",
    "    i+=1\n",
    "    if i%2==1:\n",
    "        print(i)\n",
    "    else:\n",
    "        continue\n"
   ]
  },
  {
   "cell_type": "code",
   "execution_count": 23,
   "metadata": {},
   "outputs": [
    {
     "name": "stdout",
     "output_type": "stream",
     "text": [
      "apple\n",
      "banana\n",
      "cherry\n"
     ]
    }
   ],
   "source": [
    "fruits=['apple','banana','cherry']\n",
    "i=0\n",
    "'''\n",
    "while True:\n",
    "    print(fruits[n])\n",
    "    n+=1\n",
    "    if n>3:\n",
    "        break'''\n",
    "\n",
    "while i<len(fruits):\n",
    "    print(fruits[i])\n",
    "    i+=1"
   ]
  },
  {
   "cell_type": "code",
   "execution_count": 26,
   "metadata": {},
   "outputs": [
    {
     "name": "stdout",
     "output_type": "stream",
     "text": [
      "1\n",
      "2\n",
      "fizz\n",
      "4\n",
      "buzz\n",
      "fizz\n",
      "7\n",
      "8\n",
      "fizz\n",
      "buzz\n",
      "11\n",
      "fizz\n",
      "13\n",
      "14\n",
      "fizzbuzz\n",
      "16\n",
      "17\n",
      "fizz\n",
      "19\n",
      "buzz\n",
      "fizz\n",
      "22\n",
      "23\n",
      "fizz\n",
      "buzz\n",
      "26\n",
      "fizz\n",
      "28\n",
      "29\n",
      "fizzbuzz\n",
      "31\n",
      "32\n",
      "fizz\n",
      "34\n",
      "buzz\n"
     ]
    }
   ],
   "source": [
    "for i in range(1,36):\n",
    "    if i%3==0 and i%5==0:\n",
    "        print('fizzbuzz')\n",
    "    elif i%3==0:\n",
    "        print('fizz')\n",
    "    elif i%5==0:\n",
    "        print('buzz')\n",
    "    else:\n",
    "        print(i)"
   ]
  },
  {
   "cell_type": "code",
   "execution_count": null,
   "metadata": {},
   "outputs": [],
   "source": [
    "sports=['soccer', 'baseball', 'basketball', 'tennis']\n",
    "sports.append('golf')\n",
    "print(sports)"
   ]
  },
  {
   "cell_type": "code",
   "execution_count": 4,
   "metadata": {},
   "outputs": [
    {
     "name": "stdout",
     "output_type": "stream",
     "text": [
      "[3, 6, 9, 12, 15, 18, 21, 24, 27, 30]\n"
     ]
    }
   ],
   "source": [
    "#list compression\n",
    "#[expression fro iten in literable if condition == True]\n",
    "#[expression if condition==True else expresssion for item in literal]\n",
    "'''\n",
    "even_numbers=[i for i in range(1,11) if i%2==0]\n",
    "\n",
    "for i in range(1,11):\n",
    "    if i%2==0:\n",
    "        even_numbers.append(i)\n",
    "'''\n",
    "\n",
    "# quiz. 1-30까지 숫자 중 3의 배수인 숫자로 이루어진 list를 만드시오.\n",
    "\n",
    "multiples=[i for i in range(1,31) if i%3==0]\n",
    "'''\n",
    "for i in range(1,31):\n",
    "    if i%3==0:\n",
    "        multiples.append(i)\n",
    "'''\n",
    "print(multiples)\n",
    "\n"
   ]
  }
 ],
 "metadata": {
  "kernelspec": {
   "display_name": "Python 3",
   "language": "python",
   "name": "python3"
  },
  "language_info": {
   "codemirror_mode": {
    "name": "ipython",
    "version": 3
   },
   "file_extension": ".py",
   "mimetype": "text/x-python",
   "name": "python",
   "nbconvert_exporter": "python",
   "pygments_lexer": "ipython3",
   "version": "3.12.2"
  }
 },
 "nbformat": 4,
 "nbformat_minor": 2
}
