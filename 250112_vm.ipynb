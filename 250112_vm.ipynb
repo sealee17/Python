{
 "cells": [
  {
   "cell_type": "code",
   "execution_count": 9,
   "metadata": {},
   "outputs": [
    {
     "name": "stdout",
     "output_type": "stream",
     "text": [
      "dict_items([('coffee', 1000), ('tea', 800), ('hot chocolate', 700)])\n",
      "not available\n",
      "dict_items([('coffee', 1000), ('tea', 800), ('hot chocolate', 700)])\n"
     ]
    }
   ],
   "source": [
    "stock={\"coffee\":2, \"tea\":5, \"hot chocolate\":0}\n",
    "menu={\"coffee\":1000, \"tea\":800, \"hot chocolate\":700}\n",
    "order=[]\n",
    "\n",
    "while True:\n",
    "    print(menu.items())\n",
    "    choice=input(\"choose menu. to cancel additional order, type 'no':\")\n",
    "    if choice=='cancel':\n",
    "        break\n",
    "    elif choice in menu and stock[choice]>= 1:\n",
    "        order.append(choice)\n",
    "        stock[choice] -=1\n",
    "    else:\n",
    "        print('not available')\n",
    "\n",
    "money=int(input(\"insert money:\"))\n",
    "\n",
    "#menu_value=menu[choice]\n",
    " \n",
    "for c in order:\n",
    "    if money<menu[c]:\n",
    "        print(\"you don't have enough money\")\n",
    "    else:\n",
    "        money-=menu[c]\n",
    "print(\"change:\",money)"
   ]
  },
  {
   "cell_type": "code",
   "execution_count": 3,
   "metadata": {},
   "outputs": [
    {
     "name": "stdout",
     "output_type": "stream",
     "text": [
      "numbers list: [1, 2, 3, 4, 5, 6, 7, 8, 9, 10]\n",
      "even numbers: [2, 4, 6, 8, 10]\n",
      "odd numbers: [1, 3, 5, 7, 9]\n"
     ]
    }
   ],
   "source": [
    "numbers = [1, 2, 3, 4, 5, 6, 7, 8, 9, 10]\n",
    "even_numbers= []\n",
    "odd_numbers= []\n",
    "print('numbers list:',numbers)\n",
    "\n",
    "for i in numbers:\n",
    "    if i%2==0:\n",
    "        even_numbers.append(i)\n",
    "    else:\n",
    "        odd_numbers.append(i)\n",
    "\n",
    "print('even numbers:',even_numbers)\n",
    "print('odd numbers:',odd_numbers)"
   ]
  },
  {
   "cell_type": "code",
   "execution_count": 13,
   "metadata": {},
   "outputs": [
    {
     "name": "stdout",
     "output_type": "stream",
     "text": [
      "20\n",
      "19\n"
     ]
    }
   ],
   "source": [
    "people = {\"Alice\": 17, \"Bob\": 20, \"Charlie\": 15, \"David\": 19}\n",
    "values=people.values()\n",
    "\n",
    "for i in values:\n",
    "    if i>18:\n",
    "        print(i)"
   ]
  }
 ],
 "metadata": {
  "kernelspec": {
   "display_name": "Python 3",
   "language": "python",
   "name": "python3"
  },
  "language_info": {
   "codemirror_mode": {
    "name": "ipython",
    "version": 3
   },
   "file_extension": ".py",
   "mimetype": "text/x-python",
   "name": "python",
   "nbconvert_exporter": "python",
   "pygments_lexer": "ipython3",
   "version": "3.12.2"
  }
 },
 "nbformat": 4,
 "nbformat_minor": 2
}
