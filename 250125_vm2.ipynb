{
 "cells": [
  {
   "cell_type": "code",
   "execution_count": 15,
   "metadata": {},
   "outputs": [
    {
     "name": "stdout",
     "output_type": "stream",
     "text": [
      "{'coffee': 1000, 'tea': 800, 'hot chocolate': 700}\n",
      "Please answer in Yes or No.\n",
      "{'coffee': 1000, 'tea': 800, 'hot chocolate': 700}\n",
      "Sorry, not available.\n",
      "Sorry, not available.\n",
      "Sorry, not available.\n",
      "Sorry, not available.\n",
      "Sorry, not available.\n"
     ]
    }
   ],
   "source": [
    "stock={\"coffee\":2, \"tea\":5, \"hot chocolate\":0}\n",
    "menu={\"coffee\":1000, \"tea\":800, \"hot chocolate\":700}\n",
    "order={\"coffee\":0, \"tea\":0, \"hot chocolate\":0}\n",
    "\n",
    "def ord(stock,menu,choice):\n",
    "    while True:\n",
    "        choice=input('What would you like to order? Type NO to cancel order.')\n",
    "        if choice=='no':\n",
    "            print('Order canceled')\n",
    "            break\n",
    "        elif choice not in menu:\n",
    "            print('Sorry, not available.')            \n",
    "        elif stock[choice]==0:\n",
    "            print('Sorry, out of stock')\n",
    "        else:\n",
    "            print('You ordered',choice)\n",
    "            stock[choice] -=1\n",
    "            order[str(choice)] += 1\n",
    "\n",
    "while True:\n",
    "    print(menu)\n",
    "    o=input('Would you like to order?')\n",
    "    if type(o) is str:\n",
    "        choice = input()\n",
    "        if o.lower()=='yes':\n",
    "            ord(stock,menu,choice)\n",
    "        elif o.lower()=='no':\n",
    "            print('You entered NO')\n",
    "            break\n",
    "        else:\n",
    "            print('Please answer in Yes or No.')\n",
    "    else:\n",
    "        print('Please answer in Yes or No.')\n",
    "\n",
    "money=int(input(\"insert money:\"))\n",
    "coffee = int(list(order.values())[0] * menu[list(menu.keys())[0]])\n",
    "tea=int(list(order.values())[1] * menu[list(menu.keys())[1]])\n",
    "hot=int(list(order.values())[2] * menu[list(menu.keys())[2]])\n",
    "pay=coffee+tea+hot\n",
    "\n",
    "print('Your payment: coffee(',coffee,') tea(',tea,') hot chocolate(',hot,')')\n",
    "\n",
    "if money<pay:\n",
    "    print(\"you don't have enough money\")\n",
    "else:\n",
    "    money-=pay\n",
    "    print('change:', money)"
   ]
  },
  {
   "cell_type": "code",
   "execution_count": 7,
   "metadata": {},
   "outputs": [
    {
     "name": "stdout",
     "output_type": "stream",
     "text": [
      "2\n"
     ]
    }
   ],
   "source": [
    "stock={\"coffee\":2, \"tea\":5, \"hot chocolate\":0}\n",
    "\n",
    "print(list(stock.values())[0])"
   ]
  }
 ],
 "metadata": {
  "kernelspec": {
   "display_name": "Python 3",
   "language": "python",
   "name": "python3"
  },
  "language_info": {
   "codemirror_mode": {
    "name": "ipython",
    "version": 3
   },
   "file_extension": ".py",
   "mimetype": "text/x-python",
   "name": "python",
   "nbconvert_exporter": "python",
   "pygments_lexer": "ipython3",
   "version": "3.12.2"
  }
 },
 "nbformat": 4,
 "nbformat_minor": 2
}
