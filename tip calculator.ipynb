{
 "cells": [
  {
   "cell_type": "code",
   "execution_count": null,
   "metadata": {},
   "outputs": [],
   "source": [
    "'''\n",
    "미국 식당에서는 식당 종업원에게 팁을 주는 문화가 있습니다.\n",
    "이 팁은 상황에 따라서 조금씩 달라질 수 있지만 보통 금액의 20%에서 시작해서\n",
    "종업원의 서비스가 좋았으면 최대 25%정도까지 올라가기도 하며, 반대로 별로 였다면 15%까지 내려갈 수 있습니다.\n",
    "다음 상황들을 고려하여 주어진 금액에서 팁을 계산하여 총 금액을 계산해주는 프로그램을 만들어봅시다.\n",
    "(팁 비율을 결정하는 부분은 함수로 처리하여 상황에 따라 비율을 바꿀 수 있도록 해봅시다.)\n",
    "기본적인 팁 비율은 전체 금액의 20%이며, 서비스가 좋으면 +5%, 나빴다면 -5%로 결정합니다.변수를 활용해 서비스 퀄리티에 대해 나타내도록 합니다.만약 손님의 수가 10명 이상인 경우에는 기본 팁 비율은 22%가 됩니다.\n",
    "\n",
    "프로그램의 마지막에 팁을 포함한 총 금액을 출력해주세요 '''"
   ]
  },
  {
   "cell_type": "code",
   "execution_count": 9,
   "metadata": {},
   "outputs": [
    {
     "name": "stdout",
     "output_type": "stream",
     "text": [
      "Thank you for visiting our restaruant. Would you like to give a tip?\n",
      "Please enter a valid number.\n",
      "You will begin with 20% tip and it will fluctuate based on your rate of experience from our employees.\n",
      "Thank you for your feedback. You will continue with 15% tip.\n",
      "You will pay 13.5 USD for the tip.\n",
      "Your total bill in USD is 103.5 . Thank you for visiting!\n"
     ]
    }
   ],
   "source": [
    "print('Thank you for visiting our restaruant. Would you like to give a tip?')\n",
    "tip_p=20\n",
    "while True:\n",
    "    pay=input('How much is your total bill? ($)')\n",
    "    if pay.isnumeric()==True:\n",
    "        break\n",
    "    else:\n",
    "        print('Please enter a valid number.')\n",
    "while True:\n",
    "    customers=input('How many customers did you bring with you?')\n",
    "    if customers.isnumeric()==False:\n",
    "        print('Please enter a valid number.')\n",
    "    elif int(customers)>10:\n",
    "        tip_p=22\n",
    "        print('You will have to pay 2 percent extra tip (22%).')\n",
    "        break\n",
    "    elif int(customers)<10:\n",
    "        print('You will begin with 20% tip and it will fluctuate based on your rate of experience from our employees.')\n",
    "        break\n",
    "while True:\n",
    "    service=input('How was the service quality? Good, bad, or neutral?')\n",
    "    if service=='good' or service=='Good':\n",
    "        tip_p+=5 \n",
    "        print('Thank you so much! You will continue with 25% tip.')\n",
    "        break\n",
    "    elif service=='bad' or service=='Bçd':\n",
    "        tip_p-=5\n",
    "        print('Thank you for your feedback. You will continue with 15% tip.')\n",
    "        break\n",
    "    elif service=='neutral' or service=='Neutral':\n",
    "        print('Thank you! You will continue with 20% tip.')\n",
    "        break\n",
    "    else:\n",
    "        print('Please choose between the 3 options.')\n",
    "        continue\n",
    "pay=int(pay)\n",
    "print('You will pay',pay*(tip_p/100),\"USD for the tip.\")\n",
    "print('Your total bill in USD is',pay+(pay*(tip_p/100)),\". Thank you for visiting!\")"
   ]
  }
 ],
 "metadata": {
  "kernelspec": {
   "display_name": "Python 3",
   "language": "python",
   "name": "python3"
  },
  "language_info": {
   "codemirror_mode": {
    "name": "ipython",
    "version": 3
   },
   "file_extension": ".py",
   "mimetype": "text/x-python",
   "name": "python",
   "nbconvert_exporter": "python",
   "pygments_lexer": "ipython3",
   "version": "3.12.2"
  }
 },
 "nbformat": 4,
 "nbformat_minor": 2
}
