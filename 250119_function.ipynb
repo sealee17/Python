{
 "cells": [
  {
   "cell_type": "code",
   "execution_count": 1,
   "metadata": {},
   "outputs": [],
   "source": [
    "# + - * /\n",
    "\n",
    "def add(a,b): # a,b는 parameter로 불린다\n",
    "    return a+b\n",
    "add(1,2)\n",
    "\n",
    "# -\n",
    "def sub(a,b):\n",
    "    return a-b\n",
    "\n",
    "# *\n",
    "def mul(a,b):\n",
    "    return a*b\n",
    "\n",
    "# /\n",
    "def div(a,b):\n",
    "    return a/b"
   ]
  },
  {
   "cell_type": "code",
   "execution_count": 2,
   "metadata": {},
   "outputs": [],
   "source": [
    "# calculator\n",
    "\n",
    "def cal(code,a,b):\n",
    "    if code=='+':\n",
    "        return add(a,b)\n",
    "    elif code=='-':\n",
    "        return sub(a,b)\n",
    "    elif code =='*':\n",
    "        return mul(a,b)\n",
    "    elif code=='/':\n",
    "        return div(a,b)\n",
    "    else:\n",
    "        return None\n",
    "    \n",
    "cal_result=cal('+',1,2)\n",
    "    "
   ]
  },
  {
   "cell_type": "code",
   "execution_count": 7,
   "metadata": {},
   "outputs": [
    {
     "name": "stdout",
     "output_type": "stream",
     "text": [
      "8 celsius converted to fahrenheit: 46.4\n",
      "8 celsius converted to kelvin: 281.15\n"
     ]
    }
   ],
   "source": [
    "# 방법 1\n",
    "\n",
    "celsius=int(input('celsius(degree):'))\n",
    "\n",
    "def fahrenheit(celsius):\n",
    "    return celsius*1.8+32\n",
    "def kelvin(celsius):\n",
    "    return celsius+273.15\n",
    "\n",
    "print(celsius,'celsius converted to fahrenheit:',fahrenheit(celsius))\n",
    "print(celsius,'celsius converted to kelvin:',kelvin(celsius))\n",
    "\n",
    "\n",
    "# 방법 2\n",
    "\n",
    "def convert_temp(c):\n",
    "    temp={}\n",
    "    temp['f']=f(c)\n",
    "    temp['k']=k(c)\n",
    "    return temp\n",
    "\n",
    "\n",
    "# how to add to dictionary \n",
    "\n",
    "harry ={'name':'Harry', 'age':20, 'city': 'Bangalore'}\n",
    "\n",
    "harry['job']='software engineer'\n",
    "\n",
    "print(harry)\n",
    "\n",
    "\n",
    "# 방법 3\n",
    "\n",
    "def conv_temp(c):\n",
    "    f=(c*18)+32\n",
    "    k=c+273.15\n",
    "    return f,k\n",
    "\n",
    "f,k=conv_temp(100)"
   ]
  },
  {
   "cell_type": "code",
   "execution_count": null,
   "metadata": {},
   "outputs": [],
   "source": [
    "# 2. 10년 뒤 친구의 키 (1년에 키/현재 키)\n",
    "\n",
    "peryr=int(input('growth per year:'))\n",
    "currenth=int(input('current height:'))\n",
    "\n",
    "def height(peryr, currenth)\n",
    "    return currenth+(peryr*10)\n",
    "\n",
    "print(height(peryr, currenth))\n",
    "\n",
    "\n",
    "# 3. 친구의 키 (1년에 키/현재 키/x년 후)\n",
    "\n",
    "peryr=int(input('growth per year:'))\n",
    "currenth=int(input('current height:'))\n",
    "years=int(input('years passed:'))\n",
    "\n",
    "def height(peryr, currenth, years)\n",
    "    return currenth+(peryr*years)\n",
    "\n",
    "print(height(peryr, currenth,years))"
   ]
  },
  {
   "cell_type": "code",
   "execution_count": null,
   "metadata": {},
   "outputs": [],
   "source": []
  }
 ],
 "metadata": {
  "kernelspec": {
   "display_name": "Python 3",
   "language": "python",
   "name": "python3"
  },
  "language_info": {
   "codemirror_mode": {
    "name": "ipython",
    "version": 3
   },
   "file_extension": ".py",
   "mimetype": "text/x-python",
   "name": "python",
   "nbconvert_exporter": "python",
   "pygments_lexer": "ipython3",
   "version": "3.12.2"
  }
 },
 "nbformat": 4,
 "nbformat_minor": 2
}
